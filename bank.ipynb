{
 "cells": [
  {
   "cell_type": "code",
   "execution_count": null,
   "id": "617e4755-f7bc-4f2f-8b1a-40fc41879531",
   "metadata": {},
   "outputs": [
    {
     "name": "stdin",
     "output_type": "stream",
     "text": [
      "Enter your pin :  1234\n"
     ]
    },
    {
     "name": "stdout",
     "output_type": "stream",
     "text": [
      "1. Deposit \n",
      "2. Withdarw \n",
      "3. Bal Enquiry \n",
      "0. EXIT \n"
     ]
    }
   ],
   "source": [
    "class Bank:\n",
    "    pin=1234\n",
    "    pincount=1\n",
    "    acbal=10000\n",
    "    wcount=0\n",
    "    def viewOptions(self):\n",
    "        print(\"1. Deposit \")\n",
    "        print(\"2. Withdarw \")\n",
    "        print(\"3. Bal Enquiry \")\n",
    "        print(\"0. EXIT \")\n",
    "        opt=int(input(\"Choose your option\"))\n",
    "        if opt==1:\n",
    "            obj.deposit()\n",
    "            obj.confirm()\n",
    "        elif opt==2:\n",
    "            if self.wcount<3:\n",
    "                obj.withdraw()\n",
    "                obj.confirm()\n",
    "            else:\n",
    "                print(\"Withdraw limit is over, please try after 24 hrs\")\n",
    "        \n",
    "    \n",
    "    def validate(self):\n",
    "        pin=int(input(\"Enter your pin : \"))\n",
    "        if self.pin==pin:\n",
    "           obj.viewOptions()\n",
    "        else:\n",
    "            self.pincount+=1\n",
    "            if self.pincount<=3:\n",
    "                print(\"Invalid pin, please try again\")\n",
    "                obj.validate()\n",
    "            else:\n",
    "                print(\"Your card is blocked for the day\")\n",
    "    def deposit(self):\n",
    "        amt=int(input(\"Enter deposit amount : \"))\n",
    "        if amt%100==0:\n",
    "            if amt<=50000:\n",
    "                self.acbal+=amt\n",
    "                print(\"Avaialble bal is : \",self.acbal)\n",
    "            else:\n",
    "                print(\"Transaction limit is 20000 only\")\n",
    "                \n",
    "        else:\n",
    "            print(\"Please enter multiples of 100 \")\n",
    "        \n",
    "    def confirm(self):\n",
    "        opt=int(input(\"1.Continue  \\n 0. EXIT \"))\n",
    "        if opt==1:\n",
    "                obj.viewOptions()\n",
    "        else:\n",
    "            print(\"Thank you, Visit again \")\n",
    "    def withdraw(self):\n",
    "        amt=int(input(\"Enter withdraw amount : \"))\n",
    "        if amt%100==0:\n",
    "            if amt<=self.acbal:\n",
    "                if amt<=20000:\n",
    "                    self.acbal-=amt\n",
    "                    self.wcount+=1\n",
    "                    print(\"Avalilable bal is : \",self.acbal)\n",
    "                        \n",
    "                else:\n",
    "                    print(\"Transaction limit is 20000 only\")\n",
    "            else:\n",
    "                print(\"insuffient fund \")\n",
    "        else:\n",
    "            print(\"Please enter multiples of 100 only\")\n",
    "            \n",
    "            \n",
    "obj=Bank()\n",
    "obj.validate()\n",
    "        \n",
    "        "
   ]
  },
  {
   "cell_type": "code",
   "execution_count": null,
   "id": "b165875b-e8c7-4c15-81b0-ba86bb0b7c14",
   "metadata": {},
   "outputs": [],
   "source": []
  }
 ],
 "metadata": {
  "kernelspec": {
   "display_name": "Python [conda env:base] *",
   "language": "python",
   "name": "conda-base-py"
  },
  "language_info": {
   "codemirror_mode": {
    "name": "ipython",
    "version": 3
   },
   "file_extension": ".py",
   "mimetype": "text/x-python",
   "name": "python",
   "nbconvert_exporter": "python",
   "pygments_lexer": "ipython3",
   "version": "3.12.7"
  }
 },
 "nbformat": 4,
 "nbformat_minor": 5
}
